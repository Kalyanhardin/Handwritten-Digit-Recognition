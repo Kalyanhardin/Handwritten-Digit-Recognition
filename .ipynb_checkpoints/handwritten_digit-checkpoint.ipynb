{
 "cells": [
  {
   "cell_type": "code",
   "execution_count": 1,
   "id": "0462ddf9-44c6-422d-ac50-ad7a7d4b1116",
   "metadata": {},
   "outputs": [],
   "source": [
    "import torch, torchvision, matplotlib"
   ]
  },
  {
   "cell_type": "code",
   "execution_count": 2,
   "id": "e886590c-dbfd-40ae-b953-3eee065c69ac",
   "metadata": {},
   "outputs": [],
   "source": [
    "from torchvision import datasets\n",
    "from torchvision.transforms import ToTensor"
   ]
  },
  {
   "cell_type": "code",
   "execution_count": 3,
   "id": "b4d5e356-f4bf-4ac5-a2ec-1fcbc1c24193",
   "metadata": {},
   "outputs": [],
   "source": [
    "train_data = datasets.MNIST(\n",
    "    root= 'data',\n",
    "    train = True,\n",
    "    transform = ToTensor(),\n",
    "    download = True\n",
    ")\n",
    "\n",
    "test_data =  datasets.MNIST(\n",
    "    root= 'data',\n",
    "    train = False,\n",
    "    transform = ToTensor(),\n",
    "    download = True\n",
    ")"
   ]
  },
  {
   "cell_type": "code",
   "execution_count": 4,
   "id": "5a132381-bffb-4a25-b5c8-ace8d587c236",
   "metadata": {},
   "outputs": [
    {
     "data": {
      "text/plain": [
       "Dataset MNIST\n",
       "    Number of datapoints: 60000\n",
       "    Root location: data\n",
       "    Split: Train\n",
       "    StandardTransform\n",
       "Transform: ToTensor()"
      ]
     },
     "execution_count": 4,
     "metadata": {},
     "output_type": "execute_result"
    }
   ],
   "source": [
    "train_data"
   ]
  },
  {
   "cell_type": "code",
   "execution_count": 5,
   "id": "35b8dc72-a319-46c8-84d0-eb6b28d0fd63",
   "metadata": {},
   "outputs": [
    {
     "data": {
      "text/plain": [
       "Dataset MNIST\n",
       "    Number of datapoints: 10000\n",
       "    Root location: data\n",
       "    Split: Test\n",
       "    StandardTransform\n",
       "Transform: ToTensor()"
      ]
     },
     "execution_count": 5,
     "metadata": {},
     "output_type": "execute_result"
    }
   ],
   "source": [
    "test_data"
   ]
  },
  {
   "cell_type": "code",
   "execution_count": 6,
   "id": "07ef7bd4-b4f9-4721-b4a5-05321c7f5a9d",
   "metadata": {},
   "outputs": [
    {
     "data": {
      "text/plain": [
       "torch.Size([60000, 28, 28])"
      ]
     },
     "execution_count": 6,
     "metadata": {},
     "output_type": "execute_result"
    }
   ],
   "source": [
    "train_data.data.size() #shape we can use"
   ]
  },
  {
   "cell_type": "code",
   "execution_count": 7,
   "id": "21fbaf80-fddc-4e8e-9111-7ca60542b212",
   "metadata": {},
   "outputs": [
    {
     "data": {
      "text/plain": [
       "torch.Size([10000, 28, 28])"
      ]
     },
     "execution_count": 7,
     "metadata": {},
     "output_type": "execute_result"
    }
   ],
   "source": [
    "test_data.data.size()"
   ]
  },
  {
   "cell_type": "code",
   "execution_count": 8,
   "id": "224d3a79-e523-41ca-bfd6-f7fac40f5a4d",
   "metadata": {},
   "outputs": [
    {
     "data": {
      "text/plain": [
       "torch.Size([60000])"
      ]
     },
     "execution_count": 8,
     "metadata": {},
     "output_type": "execute_result"
    }
   ],
   "source": [
    "train_data.targets.size()"
   ]
  },
  {
   "cell_type": "code",
   "execution_count": 9,
   "id": "4e1ba9bc-3903-42d3-96dd-954220603366",
   "metadata": {},
   "outputs": [
    {
     "data": {
      "text/plain": [
       "tensor([5, 0, 4,  ..., 5, 6, 8])"
      ]
     },
     "execution_count": 9,
     "metadata": {},
     "output_type": "execute_result"
    }
   ],
   "source": [
    "train_data.targets"
   ]
  },
  {
   "cell_type": "code",
   "execution_count": 10,
   "id": "4b974ea1-8c48-4cbf-9dd3-3809568a5708",
   "metadata": {},
   "outputs": [],
   "source": [
    "from torch.utils.data import DataLoader\n",
    "\n",
    "loaders = {\n",
    "    'train' : DataLoader(train_data,\n",
    "                        batch_size = 100,\n",
    "                        shuffle = True,\n",
    "                        num_workers=1),\n",
    "\n",
    "    'test' : DataLoader(test_data,\n",
    "                       batch_size = 100,\n",
    "                       shuffle = True,\n",
    "                       num_workers = 1),\n",
    "}"
   ]
  },
  {
   "cell_type": "code",
   "execution_count": 11,
   "id": "14d33fb0-a774-4504-b255-4505ce9b7584",
   "metadata": {},
   "outputs": [
    {
     "data": {
      "text/plain": [
       "{'train': <torch.utils.data.dataloader.DataLoader at 0x29b7827e750>,\n",
       " 'test': <torch.utils.data.dataloader.DataLoader at 0x29b7827f4a0>}"
      ]
     },
     "execution_count": 11,
     "metadata": {},
     "output_type": "execute_result"
    }
   ],
   "source": [
    "loaders"
   ]
  },
  {
   "cell_type": "code",
   "execution_count": 12,
   "id": "2c15cdab-bd93-4743-8cf1-a0a5581110da",
   "metadata": {},
   "outputs": [],
   "source": [
    "#neural network structure\n",
    "import torch.nn as nn\n",
    "import torch.nn.functional as F\n",
    "import torch.optim as optim\n",
    "\n",
    "class CNN(nn.Module):\n",
    "    def __init__(self):\n",
    "        super(CNN, self).__init__()\n",
    "\n",
    "        self.conv1 = nn.Conv2d(1, 10, kernel_size = 5)\n",
    "        self.conv2 = nn.Conv2d(10, 20, kernel_size = 5)\n",
    "        self.conv2_drop = nn.Dropout2d()\n",
    "        self.fc1 = nn.Linear(320, 50)\n",
    "        self.fc2 = nn.Linear(50,10)\n",
    "        \n",
    "    def forward(self, x):\n",
    "        x = F.relu(F.max_pool2d(self.conv1(x), 2))\n",
    "        x = F.relu(F.max_pool2d(self.conv2_drop(self.conv2(x)), 2))\n",
    "        x = x.view(-1, 320)\n",
    "        x = F.relu(self.fc1(x))\n",
    "        x = F.dropout(x, training = self.training)\n",
    "        x = self.fc2(x)\n",
    "\n",
    "\n",
    "        return F.softmax(x)"
   ]
  },
  {
   "cell_type": "code",
   "execution_count": 14,
   "id": "3e6b080d-6aa5-4e43-b414-b1f9acc609d2",
   "metadata": {},
   "outputs": [],
   "source": [
    "import torch\n",
    "device = torch.device('cuda' if torch.cuda.is_available() else 'cpu')\n",
    "\n",
    "model = CNN().to(device)\n",
    "\n",
    "optimizer = optim.Adam(model.parameters(), lr = 0.001)\n",
    "\n",
    "loss_fn = nn.CrossEntropyLoss()\n",
    "\n",
    "def train(epoch):\n",
    "    model.train()\n",
    "    for batch_idx, (data, target) in enumerate(loaders['train']):\n",
    "        data, target = data.to(device), target.to(device)\n",
    "        optimizer.zero_grad()\n",
    "        output = model(data)\n",
    "        loss = loss_fn(output, target)\n",
    "        loss.backward()\n",
    "        optimizer.step()\n",
    "        if batch_idx % 20 == 0:\n",
    "            print(f'Train Epoch: {epoch} [{batch_idx * len(data)}/{len(loaders[\"train\"].dataset)} ({100. * batch_idx/ len(loaders[\"train\"]): .0f}%)]\\t{loss.item():.6f}')\n",
    "\n",
    "def test():\n",
    "    model.eval()\n",
    "\n",
    "    test_loss = 0\n",
    "    correct = 0\n",
    "\n",
    "    with torch.no_grad():\n",
    "        for data, target in loaders['test']:\n",
    "            data, target = data.to(device), target.to(device)\n",
    "            output = model(data)\n",
    "            test_loss +=loss_fn(output, target).item()\n",
    "            pred = output.argmax(dim = 1, keepdim = True)\n",
    "            correct += pred.eq(target.view_as(pred)).sum().item()\n",
    "    test_loss /= len(loaders['test'].dataset)\n",
    "    print(f'\\n Test set: Average loss: {test_loss:.4f}, Accuracy{correct}/{len(loaders[\"test\"].dataset)} ({100. *correct / len(loaders[\"test\"].dataset):.0f}%\\n)')\n",
    "\n",
    "torch.save(model, 'my_entire_model.pth')\n"
   ]
  },
  {
   "cell_type": "code",
   "execution_count": 15,
   "id": "6b6a245d-68b3-49ef-8467-691cd180a3b5",
   "metadata": {},
   "outputs": [
    {
     "name": "stderr",
     "output_type": "stream",
     "text": [
      "C:\\Users\\kalya\\AppData\\Local\\Temp\\ipykernel_10592\\698095921.py:25: UserWarning: Implicit dimension choice for softmax has been deprecated. Change the call to include dim=X as an argument.\n",
      "  return F.softmax(x)\n"
     ]
    },
    {
     "name": "stdout",
     "output_type": "stream",
     "text": [
      "Train Epoch: 1 [0/60000 ( 0%)]\t2.301901\n",
      "Train Epoch: 1 [2000/60000 ( 3%)]\t2.292066\n",
      "Train Epoch: 1 [4000/60000 ( 7%)]\t2.230306\n",
      "Train Epoch: 1 [6000/60000 ( 10%)]\t2.133021\n",
      "Train Epoch: 1 [8000/60000 ( 13%)]\t1.936582\n",
      "Train Epoch: 1 [10000/60000 ( 17%)]\t1.895911\n",
      "Train Epoch: 1 [12000/60000 ( 20%)]\t1.858992\n",
      "Train Epoch: 1 [14000/60000 ( 23%)]\t1.752026\n",
      "Train Epoch: 1 [16000/60000 ( 27%)]\t1.703058\n",
      "Train Epoch: 1 [18000/60000 ( 30%)]\t1.740815\n",
      "Train Epoch: 1 [20000/60000 ( 33%)]\t1.674819\n",
      "Train Epoch: 1 [22000/60000 ( 37%)]\t1.712109\n",
      "Train Epoch: 1 [24000/60000 ( 40%)]\t1.738503\n",
      "Train Epoch: 1 [26000/60000 ( 43%)]\t1.687579\n",
      "Train Epoch: 1 [28000/60000 ( 47%)]\t1.701893\n",
      "Train Epoch: 1 [30000/60000 ( 50%)]\t1.662213\n",
      "Train Epoch: 1 [32000/60000 ( 53%)]\t1.679868\n",
      "Train Epoch: 1 [34000/60000 ( 57%)]\t1.658038\n",
      "Train Epoch: 1 [36000/60000 ( 60%)]\t1.653932\n",
      "Train Epoch: 1 [38000/60000 ( 63%)]\t1.615395\n",
      "Train Epoch: 1 [40000/60000 ( 67%)]\t1.665899\n",
      "Train Epoch: 1 [42000/60000 ( 70%)]\t1.662809\n",
      "Train Epoch: 1 [44000/60000 ( 73%)]\t1.606991\n",
      "Train Epoch: 1 [46000/60000 ( 77%)]\t1.692698\n",
      "Train Epoch: 1 [48000/60000 ( 80%)]\t1.538720\n",
      "Train Epoch: 1 [50000/60000 ( 83%)]\t1.632756\n",
      "Train Epoch: 1 [52000/60000 ( 87%)]\t1.622052\n",
      "Train Epoch: 1 [54000/60000 ( 90%)]\t1.608620\n",
      "Train Epoch: 1 [56000/60000 ( 93%)]\t1.591530\n",
      "Train Epoch: 1 [58000/60000 ( 97%)]\t1.561949\n",
      "\n",
      " Test set: Average loss: 0.0152, Accuracy9403/10000 (94%\n",
      ")\n",
      "Train Epoch: 2 [0/60000 ( 0%)]\t1.614856\n",
      "Train Epoch: 2 [2000/60000 ( 3%)]\t1.591704\n",
      "Train Epoch: 2 [4000/60000 ( 7%)]\t1.593083\n",
      "Train Epoch: 2 [6000/60000 ( 10%)]\t1.576608\n",
      "Train Epoch: 2 [8000/60000 ( 13%)]\t1.543915\n",
      "Train Epoch: 2 [10000/60000 ( 17%)]\t1.545187\n",
      "Train Epoch: 2 [12000/60000 ( 20%)]\t1.626221\n",
      "Train Epoch: 2 [14000/60000 ( 23%)]\t1.592676\n",
      "Train Epoch: 2 [16000/60000 ( 27%)]\t1.572965\n",
      "Train Epoch: 2 [18000/60000 ( 30%)]\t1.569419\n",
      "Train Epoch: 2 [20000/60000 ( 33%)]\t1.566429\n",
      "Train Epoch: 2 [22000/60000 ( 37%)]\t1.602285\n",
      "Train Epoch: 2 [24000/60000 ( 40%)]\t1.604367\n",
      "Train Epoch: 2 [26000/60000 ( 43%)]\t1.559066\n",
      "Train Epoch: 2 [28000/60000 ( 47%)]\t1.690688\n",
      "Train Epoch: 2 [30000/60000 ( 50%)]\t1.527746\n",
      "Train Epoch: 2 [32000/60000 ( 53%)]\t1.527371\n",
      "Train Epoch: 2 [34000/60000 ( 57%)]\t1.624800\n",
      "Train Epoch: 2 [36000/60000 ( 60%)]\t1.522108\n",
      "Train Epoch: 2 [38000/60000 ( 63%)]\t1.531354\n",
      "Train Epoch: 2 [40000/60000 ( 67%)]\t1.582132\n",
      "Train Epoch: 2 [42000/60000 ( 70%)]\t1.571812\n",
      "Train Epoch: 2 [44000/60000 ( 73%)]\t1.564847\n",
      "Train Epoch: 2 [46000/60000 ( 77%)]\t1.535226\n",
      "Train Epoch: 2 [48000/60000 ( 80%)]\t1.579071\n",
      "Train Epoch: 2 [50000/60000 ( 83%)]\t1.588502\n",
      "Train Epoch: 2 [52000/60000 ( 87%)]\t1.590328\n",
      "Train Epoch: 2 [54000/60000 ( 90%)]\t1.570849\n",
      "Train Epoch: 2 [56000/60000 ( 93%)]\t1.558147\n",
      "Train Epoch: 2 [58000/60000 ( 97%)]\t1.572473\n",
      "\n",
      " Test set: Average loss: 0.0150, Accuracy9570/10000 (96%\n",
      ")\n",
      "Train Epoch: 3 [0/60000 ( 0%)]\t1.576064\n",
      "Train Epoch: 3 [2000/60000 ( 3%)]\t1.504684\n",
      "Train Epoch: 3 [4000/60000 ( 7%)]\t1.516557\n",
      "Train Epoch: 3 [6000/60000 ( 10%)]\t1.551504\n",
      "Train Epoch: 3 [8000/60000 ( 13%)]\t1.538160\n",
      "Train Epoch: 3 [10000/60000 ( 17%)]\t1.568316\n",
      "Train Epoch: 3 [12000/60000 ( 20%)]\t1.570851\n",
      "Train Epoch: 3 [14000/60000 ( 23%)]\t1.576276\n",
      "Train Epoch: 3 [16000/60000 ( 27%)]\t1.571440\n",
      "Train Epoch: 3 [18000/60000 ( 30%)]\t1.572576\n",
      "Train Epoch: 3 [20000/60000 ( 33%)]\t1.554520\n",
      "Train Epoch: 3 [22000/60000 ( 37%)]\t1.524667\n",
      "Train Epoch: 3 [24000/60000 ( 40%)]\t1.561242\n",
      "Train Epoch: 3 [26000/60000 ( 43%)]\t1.544966\n",
      "Train Epoch: 3 [28000/60000 ( 47%)]\t1.590728\n",
      "Train Epoch: 3 [30000/60000 ( 50%)]\t1.535997\n",
      "Train Epoch: 3 [32000/60000 ( 53%)]\t1.557069\n",
      "Train Epoch: 3 [34000/60000 ( 57%)]\t1.581405\n",
      "Train Epoch: 3 [36000/60000 ( 60%)]\t1.588637\n",
      "Train Epoch: 3 [38000/60000 ( 63%)]\t1.525053\n",
      "Train Epoch: 3 [40000/60000 ( 67%)]\t1.562405\n",
      "Train Epoch: 3 [42000/60000 ( 70%)]\t1.524426\n",
      "Train Epoch: 3 [44000/60000 ( 73%)]\t1.589077\n",
      "Train Epoch: 3 [46000/60000 ( 77%)]\t1.498447\n",
      "Train Epoch: 3 [48000/60000 ( 80%)]\t1.555871\n",
      "Train Epoch: 3 [50000/60000 ( 83%)]\t1.544914\n",
      "Train Epoch: 3 [52000/60000 ( 87%)]\t1.524773\n",
      "Train Epoch: 3 [54000/60000 ( 90%)]\t1.566286\n",
      "Train Epoch: 3 [56000/60000 ( 93%)]\t1.544970\n",
      "Train Epoch: 3 [58000/60000 ( 97%)]\t1.545727\n",
      "\n",
      " Test set: Average loss: 0.0150, Accuracy9652/10000 (97%\n",
      ")\n",
      "Train Epoch: 4 [0/60000 ( 0%)]\t1.542580\n",
      "Train Epoch: 4 [2000/60000 ( 3%)]\t1.558021\n",
      "Train Epoch: 4 [4000/60000 ( 7%)]\t1.530366\n",
      "Train Epoch: 4 [6000/60000 ( 10%)]\t1.563510\n",
      "Train Epoch: 4 [8000/60000 ( 13%)]\t1.553121\n",
      "Train Epoch: 4 [10000/60000 ( 17%)]\t1.523563\n",
      "Train Epoch: 4 [12000/60000 ( 20%)]\t1.506326\n",
      "Train Epoch: 4 [14000/60000 ( 23%)]\t1.500583\n",
      "Train Epoch: 4 [16000/60000 ( 27%)]\t1.537314\n",
      "Train Epoch: 4 [18000/60000 ( 30%)]\t1.553871\n",
      "Train Epoch: 4 [20000/60000 ( 33%)]\t1.567637\n",
      "Train Epoch: 4 [22000/60000 ( 37%)]\t1.520063\n",
      "Train Epoch: 4 [24000/60000 ( 40%)]\t1.559013\n",
      "Train Epoch: 4 [26000/60000 ( 43%)]\t1.554574\n",
      "Train Epoch: 4 [28000/60000 ( 47%)]\t1.583868\n",
      "Train Epoch: 4 [30000/60000 ( 50%)]\t1.537866\n",
      "Train Epoch: 4 [32000/60000 ( 53%)]\t1.562684\n",
      "Train Epoch: 4 [34000/60000 ( 57%)]\t1.604041\n",
      "Train Epoch: 4 [36000/60000 ( 60%)]\t1.570811\n",
      "Train Epoch: 4 [38000/60000 ( 63%)]\t1.498613\n",
      "Train Epoch: 4 [40000/60000 ( 67%)]\t1.542117\n",
      "Train Epoch: 4 [42000/60000 ( 70%)]\t1.569084\n",
      "Train Epoch: 4 [44000/60000 ( 73%)]\t1.578245\n",
      "Train Epoch: 4 [46000/60000 ( 77%)]\t1.585322\n",
      "Train Epoch: 4 [48000/60000 ( 80%)]\t1.506045\n",
      "Train Epoch: 4 [50000/60000 ( 83%)]\t1.524487\n",
      "Train Epoch: 4 [52000/60000 ( 87%)]\t1.511214\n",
      "Train Epoch: 4 [54000/60000 ( 90%)]\t1.542127\n",
      "Train Epoch: 4 [56000/60000 ( 93%)]\t1.574958\n",
      "Train Epoch: 4 [58000/60000 ( 97%)]\t1.605453\n",
      "\n",
      " Test set: Average loss: 0.0150, Accuracy9663/10000 (97%\n",
      ")\n",
      "Train Epoch: 5 [0/60000 ( 0%)]\t1.552473\n",
      "Train Epoch: 5 [2000/60000 ( 3%)]\t1.563995\n",
      "Train Epoch: 5 [4000/60000 ( 7%)]\t1.542356\n",
      "Train Epoch: 5 [6000/60000 ( 10%)]\t1.522687\n",
      "Train Epoch: 5 [8000/60000 ( 13%)]\t1.526116\n",
      "Train Epoch: 5 [10000/60000 ( 17%)]\t1.568582\n",
      "Train Epoch: 5 [12000/60000 ( 20%)]\t1.548911\n",
      "Train Epoch: 5 [14000/60000 ( 23%)]\t1.515362\n",
      "Train Epoch: 5 [16000/60000 ( 27%)]\t1.521523\n",
      "Train Epoch: 5 [18000/60000 ( 30%)]\t1.513440\n",
      "Train Epoch: 5 [20000/60000 ( 33%)]\t1.509809\n",
      "Train Epoch: 5 [22000/60000 ( 37%)]\t1.552896\n",
      "Train Epoch: 5 [24000/60000 ( 40%)]\t1.510934\n",
      "Train Epoch: 5 [26000/60000 ( 43%)]\t1.512259\n",
      "Train Epoch: 5 [28000/60000 ( 47%)]\t1.567523\n",
      "Train Epoch: 5 [30000/60000 ( 50%)]\t1.521499\n",
      "Train Epoch: 5 [32000/60000 ( 53%)]\t1.533866\n",
      "Train Epoch: 5 [34000/60000 ( 57%)]\t1.518447\n",
      "Train Epoch: 5 [36000/60000 ( 60%)]\t1.527391\n",
      "Train Epoch: 5 [38000/60000 ( 63%)]\t1.558466\n",
      "Train Epoch: 5 [40000/60000 ( 67%)]\t1.516202\n",
      "Train Epoch: 5 [42000/60000 ( 70%)]\t1.538440\n",
      "Train Epoch: 5 [44000/60000 ( 73%)]\t1.508813\n",
      "Train Epoch: 5 [46000/60000 ( 77%)]\t1.525391\n",
      "Train Epoch: 5 [48000/60000 ( 80%)]\t1.500841\n",
      "Train Epoch: 5 [50000/60000 ( 83%)]\t1.518132\n",
      "Train Epoch: 5 [52000/60000 ( 87%)]\t1.511200\n",
      "Train Epoch: 5 [54000/60000 ( 90%)]\t1.508263\n",
      "Train Epoch: 5 [56000/60000 ( 93%)]\t1.563144\n",
      "Train Epoch: 5 [58000/60000 ( 97%)]\t1.608662\n",
      "\n",
      " Test set: Average loss: 0.0149, Accuracy9697/10000 (97%\n",
      ")\n",
      "Train Epoch: 6 [0/60000 ( 0%)]\t1.514625\n",
      "Train Epoch: 6 [2000/60000 ( 3%)]\t1.587859\n",
      "Train Epoch: 6 [4000/60000 ( 7%)]\t1.528620\n",
      "Train Epoch: 6 [6000/60000 ( 10%)]\t1.488496\n",
      "Train Epoch: 6 [8000/60000 ( 13%)]\t1.524664\n",
      "Train Epoch: 6 [10000/60000 ( 17%)]\t1.558669\n",
      "Train Epoch: 6 [12000/60000 ( 20%)]\t1.562010\n",
      "Train Epoch: 6 [14000/60000 ( 23%)]\t1.517175\n",
      "Train Epoch: 6 [16000/60000 ( 27%)]\t1.557001\n",
      "Train Epoch: 6 [18000/60000 ( 30%)]\t1.558750\n",
      "Train Epoch: 6 [20000/60000 ( 33%)]\t1.521254\n",
      "Train Epoch: 6 [22000/60000 ( 37%)]\t1.536821\n",
      "Train Epoch: 6 [24000/60000 ( 40%)]\t1.532351\n",
      "Train Epoch: 6 [26000/60000 ( 43%)]\t1.542139\n",
      "Train Epoch: 6 [28000/60000 ( 47%)]\t1.505048\n",
      "Train Epoch: 6 [30000/60000 ( 50%)]\t1.542649\n",
      "Train Epoch: 6 [32000/60000 ( 53%)]\t1.535142\n",
      "Train Epoch: 6 [34000/60000 ( 57%)]\t1.568883\n",
      "Train Epoch: 6 [36000/60000 ( 60%)]\t1.547448\n",
      "Train Epoch: 6 [38000/60000 ( 63%)]\t1.538487\n",
      "Train Epoch: 6 [40000/60000 ( 67%)]\t1.502330\n",
      "Train Epoch: 6 [42000/60000 ( 70%)]\t1.548172\n",
      "Train Epoch: 6 [44000/60000 ( 73%)]\t1.528894\n",
      "Train Epoch: 6 [46000/60000 ( 77%)]\t1.548037\n",
      "Train Epoch: 6 [48000/60000 ( 80%)]\t1.549732\n",
      "Train Epoch: 6 [50000/60000 ( 83%)]\t1.530557\n",
      "Train Epoch: 6 [52000/60000 ( 87%)]\t1.576783\n",
      "Train Epoch: 6 [54000/60000 ( 90%)]\t1.525006\n",
      "Train Epoch: 6 [56000/60000 ( 93%)]\t1.532675\n",
      "Train Epoch: 6 [58000/60000 ( 97%)]\t1.492777\n",
      "\n",
      " Test set: Average loss: 0.0149, Accuracy9725/10000 (97%\n",
      ")\n",
      "Train Epoch: 7 [0/60000 ( 0%)]\t1.553084\n",
      "Train Epoch: 7 [2000/60000 ( 3%)]\t1.542707\n",
      "Train Epoch: 7 [4000/60000 ( 7%)]\t1.518303\n",
      "Train Epoch: 7 [6000/60000 ( 10%)]\t1.512299\n",
      "Train Epoch: 7 [8000/60000 ( 13%)]\t1.530552\n",
      "Train Epoch: 7 [10000/60000 ( 17%)]\t1.534640\n",
      "Train Epoch: 7 [12000/60000 ( 20%)]\t1.538175\n",
      "Train Epoch: 7 [14000/60000 ( 23%)]\t1.508727\n",
      "Train Epoch: 7 [16000/60000 ( 27%)]\t1.520313\n",
      "Train Epoch: 7 [18000/60000 ( 30%)]\t1.489428\n",
      "Train Epoch: 7 [20000/60000 ( 33%)]\t1.520115\n",
      "Train Epoch: 7 [22000/60000 ( 37%)]\t1.507367\n",
      "Train Epoch: 7 [24000/60000 ( 40%)]\t1.493228\n",
      "Train Epoch: 7 [26000/60000 ( 43%)]\t1.530256\n",
      "Train Epoch: 7 [28000/60000 ( 47%)]\t1.519884\n",
      "Train Epoch: 7 [30000/60000 ( 50%)]\t1.522717\n",
      "Train Epoch: 7 [32000/60000 ( 53%)]\t1.534590\n",
      "Train Epoch: 7 [34000/60000 ( 57%)]\t1.487945\n",
      "Train Epoch: 7 [36000/60000 ( 60%)]\t1.531644\n",
      "Train Epoch: 7 [38000/60000 ( 63%)]\t1.529313\n",
      "Train Epoch: 7 [40000/60000 ( 67%)]\t1.552674\n",
      "Train Epoch: 7 [42000/60000 ( 70%)]\t1.553521\n",
      "Train Epoch: 7 [44000/60000 ( 73%)]\t1.535324\n",
      "Train Epoch: 7 [46000/60000 ( 77%)]\t1.465109\n",
      "Train Epoch: 7 [48000/60000 ( 80%)]\t1.546157\n",
      "Train Epoch: 7 [50000/60000 ( 83%)]\t1.525492\n",
      "Train Epoch: 7 [52000/60000 ( 87%)]\t1.505914\n",
      "Train Epoch: 7 [54000/60000 ( 90%)]\t1.512208\n",
      "Train Epoch: 7 [56000/60000 ( 93%)]\t1.525464\n",
      "Train Epoch: 7 [58000/60000 ( 97%)]\t1.537975\n",
      "\n",
      " Test set: Average loss: 0.0149, Accuracy9735/10000 (97%\n",
      ")\n",
      "Train Epoch: 8 [0/60000 ( 0%)]\t1.523926\n",
      "Train Epoch: 8 [2000/60000 ( 3%)]\t1.524433\n",
      "Train Epoch: 8 [4000/60000 ( 7%)]\t1.503526\n",
      "Train Epoch: 8 [6000/60000 ( 10%)]\t1.533908\n",
      "Train Epoch: 8 [8000/60000 ( 13%)]\t1.560961\n",
      "Train Epoch: 8 [10000/60000 ( 17%)]\t1.490278\n",
      "Train Epoch: 8 [12000/60000 ( 20%)]\t1.556254\n",
      "Train Epoch: 8 [14000/60000 ( 23%)]\t1.510555\n",
      "Train Epoch: 8 [16000/60000 ( 27%)]\t1.510285\n",
      "Train Epoch: 8 [18000/60000 ( 30%)]\t1.506621\n",
      "Train Epoch: 8 [20000/60000 ( 33%)]\t1.524984\n",
      "Train Epoch: 8 [22000/60000 ( 37%)]\t1.537455\n",
      "Train Epoch: 8 [24000/60000 ( 40%)]\t1.533721\n",
      "Train Epoch: 8 [26000/60000 ( 43%)]\t1.501205\n",
      "Train Epoch: 8 [28000/60000 ( 47%)]\t1.483965\n",
      "Train Epoch: 8 [30000/60000 ( 50%)]\t1.542287\n",
      "Train Epoch: 8 [32000/60000 ( 53%)]\t1.503727\n",
      "Train Epoch: 8 [34000/60000 ( 57%)]\t1.516046\n",
      "Train Epoch: 8 [36000/60000 ( 60%)]\t1.593165\n",
      "Train Epoch: 8 [38000/60000 ( 63%)]\t1.504220\n",
      "Train Epoch: 8 [40000/60000 ( 67%)]\t1.522919\n",
      "Train Epoch: 8 [42000/60000 ( 70%)]\t1.539298\n",
      "Train Epoch: 8 [44000/60000 ( 73%)]\t1.522614\n",
      "Train Epoch: 8 [46000/60000 ( 77%)]\t1.531109\n",
      "Train Epoch: 8 [48000/60000 ( 80%)]\t1.520395\n",
      "Train Epoch: 8 [50000/60000 ( 83%)]\t1.542772\n",
      "Train Epoch: 8 [52000/60000 ( 87%)]\t1.573028\n",
      "Train Epoch: 8 [54000/60000 ( 90%)]\t1.550700\n",
      "Train Epoch: 8 [56000/60000 ( 93%)]\t1.537980\n",
      "Train Epoch: 8 [58000/60000 ( 97%)]\t1.531456\n",
      "\n",
      " Test set: Average loss: 0.0149, Accuracy9754/10000 (98%\n",
      ")\n",
      "Train Epoch: 9 [0/60000 ( 0%)]\t1.531883\n",
      "Train Epoch: 9 [2000/60000 ( 3%)]\t1.552285\n",
      "Train Epoch: 9 [4000/60000 ( 7%)]\t1.507986\n",
      "Train Epoch: 9 [6000/60000 ( 10%)]\t1.494119\n",
      "Train Epoch: 9 [8000/60000 ( 13%)]\t1.542139\n",
      "Train Epoch: 9 [10000/60000 ( 17%)]\t1.551184\n",
      "Train Epoch: 9 [12000/60000 ( 20%)]\t1.514586\n",
      "Train Epoch: 9 [14000/60000 ( 23%)]\t1.506181\n",
      "Train Epoch: 9 [16000/60000 ( 27%)]\t1.518851\n",
      "Train Epoch: 9 [18000/60000 ( 30%)]\t1.470081\n",
      "Train Epoch: 9 [20000/60000 ( 33%)]\t1.549620\n",
      "Train Epoch: 9 [22000/60000 ( 37%)]\t1.559525\n",
      "Train Epoch: 9 [24000/60000 ( 40%)]\t1.517345\n",
      "Train Epoch: 9 [26000/60000 ( 43%)]\t1.562168\n",
      "Train Epoch: 9 [28000/60000 ( 47%)]\t1.541242\n",
      "Train Epoch: 9 [30000/60000 ( 50%)]\t1.537193\n",
      "Train Epoch: 9 [32000/60000 ( 53%)]\t1.534271\n",
      "Train Epoch: 9 [34000/60000 ( 57%)]\t1.524903\n",
      "Train Epoch: 9 [36000/60000 ( 60%)]\t1.522279\n",
      "Train Epoch: 9 [38000/60000 ( 63%)]\t1.507564\n",
      "Train Epoch: 9 [40000/60000 ( 67%)]\t1.520503\n",
      "Train Epoch: 9 [42000/60000 ( 70%)]\t1.548665\n",
      "Train Epoch: 9 [44000/60000 ( 73%)]\t1.494696\n",
      "Train Epoch: 9 [46000/60000 ( 77%)]\t1.516350\n",
      "Train Epoch: 9 [48000/60000 ( 80%)]\t1.523785\n",
      "Train Epoch: 9 [50000/60000 ( 83%)]\t1.542675\n",
      "Train Epoch: 9 [52000/60000 ( 87%)]\t1.489137\n",
      "Train Epoch: 9 [54000/60000 ( 90%)]\t1.504414\n",
      "Train Epoch: 9 [56000/60000 ( 93%)]\t1.522019\n",
      "Train Epoch: 9 [58000/60000 ( 97%)]\t1.529670\n",
      "\n",
      " Test set: Average loss: 0.0149, Accuracy9766/10000 (98%\n",
      ")\n",
      "Train Epoch: 10 [0/60000 ( 0%)]\t1.526060\n",
      "Train Epoch: 10 [2000/60000 ( 3%)]\t1.565365\n",
      "Train Epoch: 10 [4000/60000 ( 7%)]\t1.524433\n",
      "Train Epoch: 10 [6000/60000 ( 10%)]\t1.538927\n",
      "Train Epoch: 10 [8000/60000 ( 13%)]\t1.532376\n",
      "Train Epoch: 10 [10000/60000 ( 17%)]\t1.509422\n",
      "Train Epoch: 10 [12000/60000 ( 20%)]\t1.530583\n",
      "Train Epoch: 10 [14000/60000 ( 23%)]\t1.526742\n",
      "Train Epoch: 10 [16000/60000 ( 27%)]\t1.510646\n",
      "Train Epoch: 10 [18000/60000 ( 30%)]\t1.500619\n",
      "Train Epoch: 10 [20000/60000 ( 33%)]\t1.513901\n",
      "Train Epoch: 10 [22000/60000 ( 37%)]\t1.534453\n",
      "Train Epoch: 10 [24000/60000 ( 40%)]\t1.487744\n",
      "Train Epoch: 10 [26000/60000 ( 43%)]\t1.497795\n",
      "Train Epoch: 10 [28000/60000 ( 47%)]\t1.515204\n",
      "Train Epoch: 10 [30000/60000 ( 50%)]\t1.550744\n",
      "Train Epoch: 10 [32000/60000 ( 53%)]\t1.521262\n",
      "Train Epoch: 10 [34000/60000 ( 57%)]\t1.502877\n",
      "Train Epoch: 10 [36000/60000 ( 60%)]\t1.519737\n",
      "Train Epoch: 10 [38000/60000 ( 63%)]\t1.509068\n",
      "Train Epoch: 10 [40000/60000 ( 67%)]\t1.528307\n",
      "Train Epoch: 10 [42000/60000 ( 70%)]\t1.538211\n",
      "Train Epoch: 10 [44000/60000 ( 73%)]\t1.549943\n",
      "Train Epoch: 10 [46000/60000 ( 77%)]\t1.539271\n",
      "Train Epoch: 10 [48000/60000 ( 80%)]\t1.497400\n",
      "Train Epoch: 10 [50000/60000 ( 83%)]\t1.569562\n",
      "Train Epoch: 10 [52000/60000 ( 87%)]\t1.502993\n",
      "Train Epoch: 10 [54000/60000 ( 90%)]\t1.480773\n",
      "Train Epoch: 10 [56000/60000 ( 93%)]\t1.524256\n",
      "Train Epoch: 10 [58000/60000 ( 97%)]\t1.527225\n",
      "\n",
      " Test set: Average loss: 0.0148, Accuracy9781/10000 (98%\n",
      ")\n"
     ]
    }
   ],
   "source": [
    "for epoch in range(1, 11):\n",
    "    train(epoch)\n",
    "    test()"
   ]
  },
  {
   "cell_type": "code",
   "execution_count": 20,
   "id": "f08acf55-3561-4cd6-94f1-dbc5ce4057e8",
   "metadata": {},
   "outputs": [
    {
     "name": "stdout",
     "output_type": "stream",
     "text": [
      "prediction: 4\n"
     ]
    },
    {
     "name": "stderr",
     "output_type": "stream",
     "text": [
      "C:\\Users\\kalya\\AppData\\Local\\Temp\\ipykernel_10592\\698095921.py:25: UserWarning: Implicit dimension choice for softmax has been deprecated. Change the call to include dim=X as an argument.\n",
      "  return F.softmax(x)\n"
     ]
    },
    {
     "data": {
      "image/png": "[encoded data removed]",
      "text/plain": [
       "<Figure size 640x480 with 1 Axes>"
      ]
     },
     "metadata": {},
     "output_type": "display_data"
    }
   ],
   "source": [
    "import matplotlib.pyplot as plt\n",
    "\n",
    "\n",
    "model.eval()\n",
    "\n",
    "data, target = test_data[85]\n",
    "\n",
    "data = data.unsqueeze(0).to(device)\n",
    "output = model(data)\n",
    "\n",
    "prediction = output.argmax(dim=1, keepdim = True).item()\n",
    "\n",
    "print(f'prediction: {prediction}')\n",
    "\n",
    "image = data.squeeze(0).squeeze(0).cpu().numpy()\n",
    "\n",
    "plt.imshow(image, cmap='gray')\n",
    "plt.show()"
   ]
  },
  {
   "cell_type": "code",
   "execution_count": null,
   "id": "51c786c8-69e3-4ffa-addb-eda070199178",
   "metadata": {},
   "outputs": [],
   "source": []
  }
 ],
 "metadata": {
  "kernelspec": {
   "display_name": "Python 3 (ipykernel)",
   "language": "python",
   "name": "python3"
  },
  "language_info": {
   "codemirror_mode": {
    "name": "ipython",
    "version": 3
   },
   "file_extension": ".py",
   "mimetype": "text/x-python",
   "name": "python",
   "nbconvert_exporter": "python",
   "pygments_lexer": "ipython3",
   "version": "3.12.3"
  }
 },
 "nbformat": 4,
 "nbformat_minor": 5
}
