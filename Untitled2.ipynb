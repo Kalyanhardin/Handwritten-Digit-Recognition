{
 "cells": [
  {
   "cell_type": "code",
   "execution_count": 1,
   "id": "7ef2d1d9-65a9-4345-a005-39215591c590",
   "metadata": {},
   "outputs": [
    {
     "data": {
      "text/plain": [
       "266"
      ]
     },
     "execution_count": 1,
     "metadata": {},
     "output_type": "execute_result"
    }
   ],
   "source": [
    "123+143"
   ]
  },
  {
   "cell_type": "code",
   "execution_count": 2,
   "id": "6f807c3f-a73d-4f49-a17c-20970b61de05",
   "metadata": {},
   "outputs": [
    {
     "data": {
      "text/plain": [
       "'kalyai'"
      ]
     },
     "execution_count": 2,
     "metadata": {},
     "output_type": "execute_result"
    }
   ],
   "source": [
    "a = \"kalya\" + \"i\"\n",
    "a"
   ]
  },
  {
   "cell_type": "code",
   "execution_count": 4,
   "id": "142adcbd-87eb-4245-8713-e051a2f67775",
   "metadata": {},
   "outputs": [
    {
     "data": {
      "text/plain": [
       "1.23"
      ]
     },
     "execution_count": 4,
     "metadata": {},
     "output_type": "execute_result"
    }
   ],
   "source": [
    "a = 1.23\n",
    "a"
   ]
  },
  {
   "cell_type": "code",
   "execution_count": 13,
   "id": "e6ee3a5e-038b-40b3-9ce7-6903d7ed8fac",
   "metadata": {},
   "outputs": [
    {
     "data": {
      "text/plain": [
       "3.141592653589793"
      ]
     },
     "execution_count": 13,
     "metadata": {},
     "output_type": "execute_result"
    }
   ],
   "source": [
    "# len(str(2**10000))\n",
    "import math\n",
    "a = math.sqrt(10)\n",
    "a\n",
    "math.pi"
   ]
  },
  {
   "cell_type": "code",
   "execution_count": 132,
   "id": "1ed4725d-be91-4322-9cc1-39fee197936a",
   "metadata": {},
   "outputs": [
    {
     "name": "stdout",
     "output_type": "stream",
     "text": [
      "3 3\n",
      "* * * \n",
      "\n",
      "* * * \n",
      "\n",
      "* * * \n",
      "\n"
     ]
    },
    {
     "data": {
      "text/plain": [
       "('s', 't', 'r', 'k', 'a', 'l')"
      ]
     },
     "execution_count": 132,
     "metadata": {},
     "output_type": "execute_result"
    }
   ],
   "source": [
    "ss = \"spam\"\n",
    "ss[1:3]\n",
    "\n",
    "#strings are immutable\n",
    "kal = \"kalyan\"\n",
    "kal*5\n",
    "line = 'kalyan is a good boy'\n",
    "line.upper()\n",
    "line.isalpha()\n",
    "\n",
    "#string formating\n",
    "\"%s is a %s boy\" % ('kalyan', 'good')\n",
    "\n",
    "\"{0} is a good {1}\" .format(\"kalyan\", \"good\")\n",
    "\n",
    "'a\\nb\\nc'\n",
    "\n",
    "l1 = [5,4, 3, 2, 1]\n",
    "l1.sort()\n",
    "l1.reverse()\n",
    "l2 = [[1, 2, 3], [4, 5, 6], [7, 8, 9]]\n",
    "row = len(l2)\n",
    "col = len(l2[0])\n",
    "print(row, col)\n",
    "{sum(row) for row in l2}\n",
    "list(map(sum, l2))\n",
    "\n",
    "# x = 4;\n",
    "# while(x > 0):\n",
    "#     print(\"*\" * x)\n",
    "#     x-=1\n",
    "for i in range(0, 3):\n",
    "    for j in range(0, 3):\n",
    "        print('*', end=' ')\n",
    "    print(\"\\n\")\n",
    "\n",
    "a = [1, 2, 3, 4]\n",
    "x = \"str\"\n",
    "y = \"kal\"\n",
    "tuple(x+y)"
   ]
  },
  {
   "cell_type": "code",
   "execution_count": 136,
   "id": "bda4fb45-fd55-4623-a4c3-52fc661422dd",
   "metadata": {},
   "outputs": [
    {
     "data": {
      "text/plain": [
       "'nagalakshmi'"
      ]
     },
     "execution_count": 136,
     "metadata": {},
     "output_type": "execute_result"
    }
   ],
   "source": [
    "#classes\n",
    "class worker:\n",
    "    def __init__(self, name, age):\n",
    "        self.name = \"kalyan\"\n",
    "        self.age = 21\n",
    "    def setName(self, name):\n",
    "        self.name = name\n",
    "kalyan = worker(\"kalyan\", 21)\n",
    "#here iam accessing the class variables directly so by default \n",
    "#they are declared as public\n",
    "\n",
    "kalyan.name\n",
    "kalyan.age\n",
    "\n",
    "kalyan.setName(\"nagalakshmi\")\n",
    "kalyan.name\n",
    "\n",
    "#round function\n",
    "\n"
   ]
  },
  {
   "cell_type": "code",
   "execution_count": 148,
   "id": "9df2ec4c-aaf8-409a-9488-a06eccce0846",
   "metadata": {},
   "outputs": [
    {
     "name": "stdout",
     "output_type": "stream",
     "text": [
      "a\n",
      "b\tc\n"
     ]
    }
   ],
   "source": [
    "a = 0o23\n",
    "sum((1, 2, 3, 4))\n",
    "pow(2, 4)\n",
    "\n",
    "print('a\\nb\\tc')\n"
   ]
  },
  {
   "cell_type": "code",
   "execution_count": 3,
   "id": "15b2cf4c-ad65-4627-9e56-bbddb82214c4",
   "metadata": {},
   "outputs": [
    {
     "name": "stdout",
     "output_type": "stream",
     "text": [
      "\n"
     ]
    }
   ],
   "source": [
    "a = 10\n",
    "print(_)"
   ]
  },
  {
   "cell_type": "code",
   "execution_count": 23,
   "id": "761034a7-6a9f-408f-9b40-09291ff55643",
   "metadata": {},
   "outputs": [
    {
     "data": {
      "text/plain": [
       "array([[1., 0., 0.],\n",
       "       [0., 1., 0.],\n",
       "       [0., 0., 1.]])"
      ]
     },
     "execution_count": 23,
     "metadata": {},
     "output_type": "execute_result"
    }
   ],
   "source": [
    "import numpy as np\n",
    "#fixed type arrays\n",
    "import array\n",
    "\n",
    "l = list(range(10))\n",
    "a = array.array('f', l)\n",
    "a\n",
    "\n",
    "np.array([1, 2, 3, 4, 5] , dtype = 'float32')\n",
    "\n",
    "np.array([range(i, i+3) for i in [2, 4, 5]])\n",
    "np.arange(0, 20, 2)\n",
    "\n",
    "#for to create a 3x3 matrix of uniformly distributed random values from 0 to 1\n",
    "np.random.random((3, 3))\n",
    "\n",
    "#normally distributed means mean = 0 and standard deviation is 1\n",
    "np.random.normal(0, 1, (3, 3))\n",
    "\n",
    "np.random.randint(0, 10, (3, 3))\n",
    "\n",
    "np.eye(3)  #here i will give an identity matrix\n",
    "np.empty((3, 3)) "
   ]
  },
  {
   "cell_type": "code",
   "execution_count": 60,
   "id": "85652b9b-85ac-4f8b-a4d7-590c6f9c0b0d",
   "metadata": {},
   "outputs": [
    {
     "name": "stdout",
     "output_type": "stream",
     "text": [
      "2\n",
      "16\n",
      "(4, 4)\n",
      "int64\n",
      "[5 0 3 3 7 9]\n",
      "[[3 5 2 4]\n",
      " [7 6 8 8]\n",
      " [1 6 7 7]\n",
      " [8 1 5 9]]\n"
     ]
    },
    {
     "data": {
      "text/plain": [
       "array([-9, -8, -7, -6])"
      ]
     },
     "execution_count": 60,
     "metadata": {},
     "output_type": "execute_result"
    }
   ],
   "source": [
    "import numpy as np\n",
    "np.random.seed(0)\n",
    "\n",
    "x1 = np.random.randint(10, size = 6)\n",
    "x1\n",
    "\n",
    "#x2 = np.random.randint(10, size = (4, 4), dtype = 'int64')\n",
    "x2\n",
    "print(x2.ndim)\n",
    "print(x2.size)\n",
    "print(x2.shape)\n",
    "print(x2.dtype)\n",
    "\n",
    "#for to create the arrays\n",
    "print(x1)\n",
    "print(x2)\n",
    "#array slicing\n",
    "x1[::-1]\n",
    "x2[::-1, ::-1] #2rows 3 columns\n",
    "#reshaping of array\n",
    "\n",
    "a = np.arange(1, 10).reshape(3, 3)\n",
    "a #for this to work the size of the array must match the reshape size\n",
    "#array concatenation\n",
    "\n",
    "c = np.array([1, 2, 3, 4])\n",
    "d = np.array([4, 3, 3])\n",
    "e = np.concatenate([c, d])\n",
    "np.vstack([e, e])\n",
    "np.add(c, 10)\n",
    "np.subtract(c, 10)"
   ]
  },
  {
   "cell_type": "code",
   "execution_count": 69,
   "id": "a7d3aa18-d8bc-4103-b957-3db815e9b070",
   "metadata": {},
   "outputs": [
    {
     "data": {
      "text/html": [
       "<div>\n",
       "<style scoped>\n",
       "    .dataframe tbody tr th:only-of-type {\n",
       "        vertical-align: middle;\n",
       "    }\n",
       "\n",
       "    .dataframe tbody tr th {\n",
       "        vertical-align: top;\n",
       "    }\n",
       "\n",
       "    .dataframe thead th {\n",
       "        text-align: right;\n",
       "    }\n",
       "</style>\n",
       "<table border=\"1\" class=\"dataframe\">\n",
       "  <thead>\n",
       "    <tr style=\"text-align: right;\">\n",
       "      <th></th>\n",
       "      <th>foo</th>\n",
       "      <th>bar</th>\n",
       "    </tr>\n",
       "  </thead>\n",
       "  <tbody>\n",
       "    <tr>\n",
       "      <th>a</th>\n",
       "      <td>0.623564</td>\n",
       "      <td>0.384382</td>\n",
       "    </tr>\n",
       "    <tr>\n",
       "      <th>b</th>\n",
       "      <td>0.297535</td>\n",
       "      <td>0.056713</td>\n",
       "    </tr>\n",
       "    <tr>\n",
       "      <th>c</th>\n",
       "      <td>0.272656</td>\n",
       "      <td>0.477665</td>\n",
       "    </tr>\n",
       "  </tbody>\n",
       "</table>\n",
       "</div>"
      ],
      "text/plain": [
       "        foo       bar\n",
       "a  0.623564  0.384382\n",
       "b  0.297535  0.056713\n",
       "c  0.272656  0.477665"
      ]
     },
     "execution_count": 69,
     "metadata": {},
     "output_type": "execute_result"
    }
   ],
   "source": [
    "#pandas\n",
    "import pandas as pd\n",
    "data = pd.Series([2, 1,3 ,4, 5, 5])\n",
    "data.values\n",
    "data.index\n",
    "\n",
    "#we can also put the index like this\n",
    "a = pd.Series([2, 3, 4, 5, 7], index = ['a' ,'b', 'c', 'd', 'e'])\n",
    "a\n",
    "\n",
    "#we can also convert the dictionary into dataFrame\n",
    "\n",
    "data = [{'a' : i, 'b':2*i} for i in range(3)]\n",
    "pd.DataFrame(data)\n",
    "\n",
    "pd.DataFrame(np.random.rand(3, 2), columns = ['foo', 'bar'] ,index = ['a', 'b', 'c'])"
   ]
  },
  {
   "cell_type": "code",
   "execution_count": null,
   "id": "535bca11-2702-45c5-a050-dcef55752350",
   "metadata": {},
   "outputs": [],
   "source": []
  }
 ],
 "metadata": {
  "kernelspec": {
   "display_name": "Python 3 (ipykernel)",
   "language": "python",
   "name": "python3"
  },
  "language_info": {
   "codemirror_mode": {
    "name": "ipython",
    "version": 3
   },
   "file_extension": ".py",
   "mimetype": "text/x-python",
   "name": "python",
   "nbconvert_exporter": "python",
   "pygments_lexer": "ipython3",
   "version": "3.12.3"
  }
 },
 "nbformat": 4,
 "nbformat_minor": 5
}
