{
 "cells": [
  {
   "cell_type": "code",
   "execution_count": 7,
   "id": "0462ddf9-44c6-422d-ac50-ad7a7d4b1116",
   "metadata": {},
   "outputs": [],
   "source": [
    "import torch, torchvision, matplotlib\n",
    "from torchvision import datasets\n",
    "from torchvision.transforms import ToTensor"
   ]
  },
  {
   "cell_type": "code",
   "execution_count": 8,
   "id": "e886590c-dbfd-40ae-b953-3eee065c69ac",
   "metadata": {},
   "outputs": [],
   "source": []
  },
  {
   "cell_type": "code",
   "execution_count": 9,
   "id": "b4d5e356-f4bf-4ac5-a2ec-1fcbc1c24193",
   "metadata": {},
   "outputs": [],
   "source": [
    "train_data = datasets.MNIST(\n",
    "    root= 'data',\n",
    "    train = True,\n",
    "    transform = ToTensor(),\n",
    "    download = True\n",
    ")\n",
    "\n",
    "test_data =  datasets.MNIST(\n",
    "    root= 'data',\n",
    "    train = False,\n",
    "    transform = ToTensor(),\n",
    "    download = True\n",
    ")"
   ]
  },
  {
   "cell_type": "code",
   "execution_count": 10,
   "id": "5a132381-bffb-4a25-b5c8-ace8d587c236",
   "metadata": {},
   "outputs": [
    {
     "data": {
      "text/plain": [
       "Dataset MNIST\n",
       "    Number of datapoints: 60000\n",
       "    Root location: data\n",
       "    Split: Train\n",
       "    StandardTransform\n",
       "Transform: ToTensor()"
      ]
     },
     "execution_count": 10,
     "metadata": {},
     "output_type": "execute_result"
    }
   ],
   "source": [
    "train_data"
   ]
  },
  {
   "cell_type": "code",
   "execution_count": 11,
   "id": "35b8dc72-a319-46c8-84d0-eb6b28d0fd63",
   "metadata": {},
   "outputs": [
    {
     "data": {
      "text/plain": [
       "Dataset MNIST\n",
       "    Number of datapoints: 10000\n",
       "    Root location: data\n",
       "    Split: Test\n",
       "    StandardTransform\n",
       "Transform: ToTensor()"
      ]
     },
     "execution_count": 11,
     "metadata": {},
     "output_type": "execute_result"
    }
   ],
   "source": [
    "test_data"
   ]
  },
  {
   "cell_type": "code",
   "execution_count": 12,
   "id": "07ef7bd4-b4f9-4721-b4a5-05321c7f5a9d",
   "metadata": {},
   "outputs": [
    {
     "data": {
      "text/plain": [
       "torch.Size([60000, 28, 28])"
      ]
     },
     "execution_count": 12,
     "metadata": {},
     "output_type": "execute_result"
    }
   ],
   "source": [
    "train_data.data.size() #shape we can use"
   ]
  },
  {
   "cell_type": "code",
   "execution_count": 13,
   "id": "21fbaf80-fddc-4e8e-9111-7ca60542b212",
   "metadata": {},
   "outputs": [
    {
     "data": {
      "text/plain": [
       "torch.Size([10000, 28, 28])"
      ]
     },
     "execution_count": 13,
     "metadata": {},
     "output_type": "execute_result"
    }
   ],
   "source": [
    "test_data.data.size()"
   ]
  },
  {
   "cell_type": "code",
   "execution_count": 14,
   "id": "224d3a79-e523-41ca-bfd6-f7fac40f5a4d",
   "metadata": {},
   "outputs": [
    {
     "data": {
      "text/plain": [
       "torch.Size([60000])"
      ]
     },
     "execution_count": 14,
     "metadata": {},
     "output_type": "execute_result"
    }
   ],
   "source": [
    "train_data.targets.size()"
   ]
  },
  {
   "cell_type": "code",
   "execution_count": 15,
   "id": "4e1ba9bc-3903-42d3-96dd-954220603366",
   "metadata": {},
   "outputs": [
    {
     "data": {
      "text/plain": [
       "tensor([5, 0, 4,  ..., 5, 6, 8])"
      ]
     },
     "execution_count": 15,
     "metadata": {},
     "output_type": "execute_result"
    }
   ],
   "source": [
    "train_data.targets"
   ]
  },
  {
   "cell_type": "code",
   "execution_count": 16,
   "id": "4b974ea1-8c48-4cbf-9dd3-3809568a5708",
   "metadata": {},
   "outputs": [],
   "source": [
    "from torch.utils.data import DataLoader\n",
    "\n",
    "loaders = {\n",
    "    'train' : DataLoader(train_data,\n",
    "                        batch_size = 100,\n",
    "                        shuffle = True,\n",
    "                        num_workers=1),\n",
    "\n",
    "    'test' : DataLoader(test_data,\n",
    "                       batch_size = 100,\n",
    "                       shuffle = True,\n",
    "                       num_workers = 1),\n",
    "}\n",
    "\n"
   ]
  },
  {
   "cell_type": "code",
   "execution_count": 17,
   "id": "14d33fb0-a774-4504-b255-4505ce9b7584",
   "metadata": {},
   "outputs": [
    {
     "data": {
      "text/plain": [
       "{'train': <torch.utils.data.dataloader.DataLoader at 0x1a8a2a24b60>,\n",
       " 'test': <torch.utils.data.dataloader.DataLoader at 0x1a8981c2a80>}"
      ]
     },
     "execution_count": 17,
     "metadata": {},
     "output_type": "execute_result"
    }
   ],
   "source": [
    "loaders"
   ]
  },
  {
   "cell_type": "code",
   "execution_count": 18,
   "id": "2c15cdab-bd93-4743-8cf1-a0a5581110da",
   "metadata": {},
   "outputs": [],
   "source": [
    "#neural network structure\n",
    "import torch.nn as nn\n",
    "import torch.nn.functional as F\n",
    "import torch.optim as optim\n",
    "\n",
    "class CNN(nn.Module):\n",
    "    def __init__(self):\n",
    "        super(CNN, self).__init__()\n",
    "\n",
    "        self.conv1 = nn.Conv2d(1, 10, kernel_size = 5)\n",
    "        self.conv2 = nn.Conv2d(10, 20, kernel_size = 5)\n",
    "        self.conv2_drop = nn.Dropout2d()\n",
    "        self.fc1 = nn.Linear(320, 50)\n",
    "        self.fc2 = nn.Linear(50,10)\n",
    "        \n",
    "    def forward(self, x):\n",
    "        x = F.relu(F.max_pool2d(self.conv1(x), 2))\n",
    "        x = F.relu(F.max_pool2d(self.conv2_drop(self.conv2(x)), 2))\n",
    "        x = x.view(-1, 320)\n",
    "        x = F.relu(self.fc1(x))\n",
    "        x = F.dropout(x, training = self.training)\n",
    "        x = self.fc2(x)\n",
    "\n",
    "\n",
    "        return F.softmax(x)\n"
   ]
  },
  {
   "cell_type": "code",
   "execution_count": 31,
   "id": "3e6b080d-6aa5-4e43-b414-b1f9acc609d2",
   "metadata": {},
   "outputs": [],
   "source": [
    "import torch\n",
    "device = torch.device('cuda' if torch.cuda.is_available() else 'cpu')\n",
    "\n",
    "model = CNN().to(device)\n",
    "\n",
    "optimizer = optim.Adam(model.parameters(), lr = 0.001)\n",
    "\n",
    "loss_fn = nn.CrossEntropyLoss()\n",
    "\n",
    "def train(epoch):\n",
    "    model.train()\n",
    "    for batch_idx, (data, target) in enumerate(loaders['train']):\n",
    "        data, target = data.to(device), target.to(device)\n",
    "        optimizer.zero_grad()\n",
    "        output = model(data)\n",
    "        loss = loss_fn(output, target)\n",
    "        loss.backward()\n",
    "        optimizer.step()\n",
    "        if batch_idx % 20 == 0:\n",
    "            print(f'Train Epoch: {epoch}\n",
    "            [{batch_idx * len(data)}/{len(loaders[\"train\"].dataset)} \n",
    "            ({100. * batch_idx/ len(loaders[\"train\"]): .0f}%)]\n",
    "            \\t{loss.item():.6f}')\n",
    "\n",
    "def test():\n",
    "    model.eval()\n",
    "\n",
    "    test_loss = 0\n",
    "    correct = 0\n",
    "\n",
    "    with torch.no_grad():\n",
    "        for data, target in loaders['test']:\n",
    "            data, target = data.to(device), target.to(device)\n",
    "            output = model(data)\n",
    "            test_loss +=loss_fn(output, target).item()\n",
    "            pred = output.argmax(dim = 1, keepdim = True)\n",
    "            correct += pred.eq(target.view_as(pred)).sum().item()\n",
    "    test_loss /= len(loaders['test'].dataset)\n",
    "    print(f'\\n Test set: Average loss: {test_loss:.4f},\n",
    "    Accuracy{correct}/{len(loaders[\"test\"].dataset)}\n",
    "    ({100. *correct / len(loaders[\"test\"].dataset):.0f}%\\n)')\n",
    "\n",
    "\n"
   ]
  },
  {
   "cell_type": "code",
   "execution_count": 32,
   "id": "6b6a245d-68b3-49ef-8467-691cd180a3b5",
   "metadata": {},
   "outputs": [
    {
     "name": "stderr",
     "output_type": "stream",
     "text": [
      "C:\\Users\\kalya\\AppData\\Local\\Temp\\ipykernel_10420\\698095921.py:25: UserWarning: Implicit dimension choice for softmax has been deprecated. Change the call to include dim=X as an argument.\n",
      "  return F.softmax(x)\n"
     ]
    },
    {
     "name": "stdout",
     "output_type": "stream",
     "text": [
      "Train Epoch: 1 [0/60000 ( 0%)]\t2.302170\n",
      "Train Epoch: 1 [2000/60000 ( 3%)]\t2.283898\n",
      "Train Epoch: 1 [4000/60000 ( 7%)]\t2.208418\n",
      "Train Epoch: 1 [6000/60000 ( 10%)]\t2.041090\n",
      "Train Epoch: 1 [8000/60000 ( 13%)]\t1.966093\n",
      "Train Epoch: 1 [10000/60000 ( 17%)]\t1.901945\n",
      "Train Epoch: 1 [12000/60000 ( 20%)]\t1.773671\n",
      "Train Epoch: 1 [14000/60000 ( 23%)]\t1.784483\n",
      "Train Epoch: 1 [16000/60000 ( 27%)]\t1.801401\n",
      "Train Epoch: 1 [18000/60000 ( 30%)]\t1.819191\n",
      "Train Epoch: 1 [20000/60000 ( 33%)]\t1.697757\n",
      "Train Epoch: 1 [22000/60000 ( 37%)]\t1.656729\n",
      "Train Epoch: 1 [24000/60000 ( 40%)]\t1.671273\n",
      "Train Epoch: 1 [26000/60000 ( 43%)]\t1.664786\n",
      "Train Epoch: 1 [28000/60000 ( 47%)]\t1.691646\n",
      "Train Epoch: 1 [30000/60000 ( 50%)]\t1.623633\n",
      "Train Epoch: 1 [32000/60000 ( 53%)]\t1.634607\n",
      "Train Epoch: 1 [34000/60000 ( 57%)]\t1.712776\n",
      "Train Epoch: 1 [36000/60000 ( 60%)]\t1.671515\n",
      "Train Epoch: 1 [38000/60000 ( 63%)]\t1.592489\n",
      "Train Epoch: 1 [40000/60000 ( 67%)]\t1.602766\n",
      "Train Epoch: 1 [42000/60000 ( 70%)]\t1.650831\n",
      "Train Epoch: 1 [44000/60000 ( 73%)]\t1.620027\n",
      "Train Epoch: 1 [46000/60000 ( 77%)]\t1.592343\n",
      "Train Epoch: 1 [48000/60000 ( 80%)]\t1.612153\n",
      "Train Epoch: 1 [50000/60000 ( 83%)]\t1.638108\n",
      "Train Epoch: 1 [52000/60000 ( 87%)]\t1.608279\n",
      "Train Epoch: 1 [54000/60000 ( 90%)]\t1.607807\n",
      "Train Epoch: 1 [56000/60000 ( 93%)]\t1.594512\n",
      "Train Epoch: 1 [58000/60000 ( 97%)]\t1.606837\n",
      "\n",
      " Test set: Average loss: 0.0153, Accuracy9361/10000 (94%\n",
      ")\n",
      "Train Epoch: 2 [0/60000 ( 0%)]\t1.601071\n",
      "Train Epoch: 2 [2000/60000 ( 3%)]\t1.560509\n",
      "Train Epoch: 2 [4000/60000 ( 7%)]\t1.576395\n",
      "Train Epoch: 2 [6000/60000 ( 10%)]\t1.544492\n",
      "Train Epoch: 2 [8000/60000 ( 13%)]\t1.596734\n",
      "Train Epoch: 2 [10000/60000 ( 17%)]\t1.577075\n",
      "Train Epoch: 2 [12000/60000 ( 20%)]\t1.596160\n",
      "Train Epoch: 2 [14000/60000 ( 23%)]\t1.567193\n",
      "Train Epoch: 2 [16000/60000 ( 27%)]\t1.557519\n",
      "Train Epoch: 2 [18000/60000 ( 30%)]\t1.572012\n",
      "Train Epoch: 2 [20000/60000 ( 33%)]\t1.619321\n",
      "Train Epoch: 2 [22000/60000 ( 37%)]\t1.548840\n",
      "Train Epoch: 2 [24000/60000 ( 40%)]\t1.621652\n",
      "Train Epoch: 2 [26000/60000 ( 43%)]\t1.568411\n",
      "Train Epoch: 2 [28000/60000 ( 47%)]\t1.592462\n",
      "Train Epoch: 2 [30000/60000 ( 50%)]\t1.537008\n",
      "Train Epoch: 2 [32000/60000 ( 53%)]\t1.602664\n",
      "Train Epoch: 2 [34000/60000 ( 57%)]\t1.527213\n",
      "Train Epoch: 2 [36000/60000 ( 60%)]\t1.614140\n",
      "Train Epoch: 2 [38000/60000 ( 63%)]\t1.550555\n",
      "Train Epoch: 2 [40000/60000 ( 67%)]\t1.570307\n",
      "Train Epoch: 2 [42000/60000 ( 70%)]\t1.533446\n",
      "Train Epoch: 2 [44000/60000 ( 73%)]\t1.516351\n",
      "Train Epoch: 2 [46000/60000 ( 77%)]\t1.577268\n",
      "Train Epoch: 2 [48000/60000 ( 80%)]\t1.566788\n",
      "Train Epoch: 2 [50000/60000 ( 83%)]\t1.551443\n",
      "Train Epoch: 2 [52000/60000 ( 87%)]\t1.559613\n",
      "Train Epoch: 2 [54000/60000 ( 90%)]\t1.603845\n",
      "Train Epoch: 2 [56000/60000 ( 93%)]\t1.574522\n",
      "Train Epoch: 2 [58000/60000 ( 97%)]\t1.552387\n",
      "\n",
      " Test set: Average loss: 0.0151, Accuracy9534/10000 (95%\n",
      ")\n",
      "Train Epoch: 3 [0/60000 ( 0%)]\t1.634982\n",
      "Train Epoch: 3 [2000/60000 ( 3%)]\t1.563690\n",
      "Train Epoch: 3 [4000/60000 ( 7%)]\t1.548839\n",
      "Train Epoch: 3 [6000/60000 ( 10%)]\t1.566031\n",
      "Train Epoch: 3 [8000/60000 ( 13%)]\t1.572721\n",
      "Train Epoch: 3 [10000/60000 ( 17%)]\t1.542918\n",
      "Train Epoch: 3 [12000/60000 ( 20%)]\t1.559509\n",
      "Train Epoch: 3 [14000/60000 ( 23%)]\t1.562437\n",
      "Train Epoch: 3 [16000/60000 ( 27%)]\t1.532315\n",
      "Train Epoch: 3 [18000/60000 ( 30%)]\t1.539935\n",
      "Train Epoch: 3 [20000/60000 ( 33%)]\t1.535960\n",
      "Train Epoch: 3 [22000/60000 ( 37%)]\t1.551899\n",
      "Train Epoch: 3 [24000/60000 ( 40%)]\t1.582440\n",
      "Train Epoch: 3 [26000/60000 ( 43%)]\t1.556094\n",
      "Train Epoch: 3 [28000/60000 ( 47%)]\t1.576023\n",
      "Train Epoch: 3 [30000/60000 ( 50%)]\t1.540462\n",
      "Train Epoch: 3 [32000/60000 ( 53%)]\t1.575459\n",
      "Train Epoch: 3 [34000/60000 ( 57%)]\t1.552694\n",
      "Train Epoch: 3 [36000/60000 ( 60%)]\t1.536003\n",
      "Train Epoch: 3 [38000/60000 ( 63%)]\t1.604548\n",
      "Train Epoch: 3 [40000/60000 ( 67%)]\t1.560864\n",
      "Train Epoch: 3 [42000/60000 ( 70%)]\t1.596339\n",
      "Train Epoch: 3 [44000/60000 ( 73%)]\t1.515883\n",
      "Train Epoch: 3 [46000/60000 ( 77%)]\t1.563287\n",
      "Train Epoch: 3 [48000/60000 ( 80%)]\t1.585217\n",
      "Train Epoch: 3 [50000/60000 ( 83%)]\t1.588279\n",
      "Train Epoch: 3 [52000/60000 ( 87%)]\t1.579128\n",
      "Train Epoch: 3 [54000/60000 ( 90%)]\t1.562744\n",
      "Train Epoch: 3 [56000/60000 ( 93%)]\t1.574976\n",
      "Train Epoch: 3 [58000/60000 ( 97%)]\t1.567100\n",
      "\n",
      " Test set: Average loss: 0.0150, Accuracy9615/10000 (96%\n",
      ")\n",
      "Train Epoch: 4 [0/60000 ( 0%)]\t1.538648\n",
      "Train Epoch: 4 [2000/60000 ( 3%)]\t1.593167\n",
      "Train Epoch: 4 [4000/60000 ( 7%)]\t1.589277\n",
      "Train Epoch: 4 [6000/60000 ( 10%)]\t1.606401\n",
      "Train Epoch: 4 [8000/60000 ( 13%)]\t1.533090\n",
      "Train Epoch: 4 [10000/60000 ( 17%)]\t1.522709\n",
      "Train Epoch: 4 [12000/60000 ( 20%)]\t1.602129\n",
      "Train Epoch: 4 [14000/60000 ( 23%)]\t1.562936\n",
      "Train Epoch: 4 [16000/60000 ( 27%)]\t1.560852\n",
      "Train Epoch: 4 [18000/60000 ( 30%)]\t1.559139\n",
      "Train Epoch: 4 [20000/60000 ( 33%)]\t1.527033\n",
      "Train Epoch: 4 [22000/60000 ( 37%)]\t1.536066\n",
      "Train Epoch: 4 [24000/60000 ( 40%)]\t1.562877\n",
      "Train Epoch: 4 [26000/60000 ( 43%)]\t1.578902\n",
      "Train Epoch: 4 [28000/60000 ( 47%)]\t1.544176\n",
      "Train Epoch: 4 [30000/60000 ( 50%)]\t1.511471\n",
      "Train Epoch: 4 [32000/60000 ( 53%)]\t1.553216\n",
      "Train Epoch: 4 [34000/60000 ( 57%)]\t1.536079\n",
      "Train Epoch: 4 [36000/60000 ( 60%)]\t1.516014\n",
      "Train Epoch: 4 [38000/60000 ( 63%)]\t1.593978\n",
      "Train Epoch: 4 [40000/60000 ( 67%)]\t1.533638\n",
      "Train Epoch: 4 [42000/60000 ( 70%)]\t1.534305\n",
      "Train Epoch: 4 [44000/60000 ( 73%)]\t1.553399\n",
      "Train Epoch: 4 [46000/60000 ( 77%)]\t1.528011\n",
      "Train Epoch: 4 [48000/60000 ( 80%)]\t1.551256\n",
      "Train Epoch: 4 [50000/60000 ( 83%)]\t1.654753\n",
      "Train Epoch: 4 [52000/60000 ( 87%)]\t1.540347\n",
      "Train Epoch: 4 [54000/60000 ( 90%)]\t1.548712\n",
      "Train Epoch: 4 [56000/60000 ( 93%)]\t1.512074\n",
      "Train Epoch: 4 [58000/60000 ( 97%)]\t1.582031\n",
      "\n",
      " Test set: Average loss: 0.0150, Accuracy9668/10000 (97%\n",
      ")\n",
      "Train Epoch: 5 [0/60000 ( 0%)]\t1.543174\n",
      "Train Epoch: 5 [2000/60000 ( 3%)]\t1.559460\n",
      "Train Epoch: 5 [4000/60000 ( 7%)]\t1.509237\n",
      "Train Epoch: 5 [6000/60000 ( 10%)]\t1.522110\n",
      "Train Epoch: 5 [8000/60000 ( 13%)]\t1.556575\n",
      "Train Epoch: 5 [10000/60000 ( 17%)]\t1.562772\n",
      "Train Epoch: 5 [12000/60000 ( 20%)]\t1.597762\n",
      "Train Epoch: 5 [14000/60000 ( 23%)]\t1.546534\n",
      "Train Epoch: 5 [16000/60000 ( 27%)]\t1.580466\n",
      "Train Epoch: 5 [18000/60000 ( 30%)]\t1.556545\n",
      "Train Epoch: 5 [20000/60000 ( 33%)]\t1.553907\n",
      "Train Epoch: 5 [22000/60000 ( 37%)]\t1.610078\n",
      "Train Epoch: 5 [24000/60000 ( 40%)]\t1.533662\n",
      "Train Epoch: 5 [26000/60000 ( 43%)]\t1.548203\n",
      "Train Epoch: 5 [28000/60000 ( 47%)]\t1.505094\n",
      "Train Epoch: 5 [30000/60000 ( 50%)]\t1.558460\n",
      "Train Epoch: 5 [32000/60000 ( 53%)]\t1.545443\n",
      "Train Epoch: 5 [34000/60000 ( 57%)]\t1.548185\n",
      "Train Epoch: 5 [36000/60000 ( 60%)]\t1.527718\n",
      "Train Epoch: 5 [38000/60000 ( 63%)]\t1.536611\n",
      "Train Epoch: 5 [40000/60000 ( 67%)]\t1.560113\n",
      "Train Epoch: 5 [42000/60000 ( 70%)]\t1.575799\n",
      "Train Epoch: 5 [44000/60000 ( 73%)]\t1.534890\n",
      "Train Epoch: 5 [46000/60000 ( 77%)]\t1.562189\n",
      "Train Epoch: 5 [48000/60000 ( 80%)]\t1.597180\n",
      "Train Epoch: 5 [50000/60000 ( 83%)]\t1.528530\n",
      "Train Epoch: 5 [52000/60000 ( 87%)]\t1.570157\n",
      "Train Epoch: 5 [54000/60000 ( 90%)]\t1.564519\n",
      "Train Epoch: 5 [56000/60000 ( 93%)]\t1.523433\n",
      "Train Epoch: 5 [58000/60000 ( 97%)]\t1.530843\n",
      "\n",
      " Test set: Average loss: 0.0149, Accuracy9679/10000 (97%\n",
      ")\n",
      "Train Epoch: 6 [0/60000 ( 0%)]\t1.526806\n",
      "Train Epoch: 6 [2000/60000 ( 3%)]\t1.507317\n",
      "Train Epoch: 6 [4000/60000 ( 7%)]\t1.541823\n",
      "Train Epoch: 6 [6000/60000 ( 10%)]\t1.556598\n",
      "Train Epoch: 6 [8000/60000 ( 13%)]\t1.537613\n",
      "Train Epoch: 6 [10000/60000 ( 17%)]\t1.567457\n",
      "Train Epoch: 6 [12000/60000 ( 20%)]\t1.545717\n",
      "Train Epoch: 6 [14000/60000 ( 23%)]\t1.496893\n",
      "Train Epoch: 6 [16000/60000 ( 27%)]\t1.590020\n",
      "Train Epoch: 6 [18000/60000 ( 30%)]\t1.513085\n",
      "Train Epoch: 6 [20000/60000 ( 33%)]\t1.540542\n",
      "Train Epoch: 6 [22000/60000 ( 37%)]\t1.549343\n",
      "Train Epoch: 6 [24000/60000 ( 40%)]\t1.522343\n",
      "Train Epoch: 6 [26000/60000 ( 43%)]\t1.533744\n",
      "Train Epoch: 6 [28000/60000 ( 47%)]\t1.509426\n",
      "Train Epoch: 6 [30000/60000 ( 50%)]\t1.481576\n",
      "Train Epoch: 6 [32000/60000 ( 53%)]\t1.532589\n",
      "Train Epoch: 6 [34000/60000 ( 57%)]\t1.545213\n",
      "Train Epoch: 6 [36000/60000 ( 60%)]\t1.523830\n",
      "Train Epoch: 6 [38000/60000 ( 63%)]\t1.557451\n",
      "Train Epoch: 6 [40000/60000 ( 67%)]\t1.545209\n",
      "Train Epoch: 6 [42000/60000 ( 70%)]\t1.540553\n",
      "Train Epoch: 6 [44000/60000 ( 73%)]\t1.503221\n",
      "Train Epoch: 6 [46000/60000 ( 77%)]\t1.523192\n",
      "Train Epoch: 6 [48000/60000 ( 80%)]\t1.551539\n",
      "Train Epoch: 6 [50000/60000 ( 83%)]\t1.535627\n",
      "Train Epoch: 6 [52000/60000 ( 87%)]\t1.508330\n",
      "Train Epoch: 6 [54000/60000 ( 90%)]\t1.543002\n",
      "Train Epoch: 6 [56000/60000 ( 93%)]\t1.501297\n",
      "Train Epoch: 6 [58000/60000 ( 97%)]\t1.579585\n",
      "\n",
      " Test set: Average loss: 0.0149, Accuracy9684/10000 (97%\n",
      ")\n",
      "Train Epoch: 7 [0/60000 ( 0%)]\t1.538276\n",
      "Train Epoch: 7 [2000/60000 ( 3%)]\t1.564502\n",
      "Train Epoch: 7 [4000/60000 ( 7%)]\t1.568617\n",
      "Train Epoch: 7 [6000/60000 ( 10%)]\t1.506349\n",
      "Train Epoch: 7 [8000/60000 ( 13%)]\t1.529636\n",
      "Train Epoch: 7 [10000/60000 ( 17%)]\t1.511401\n",
      "Train Epoch: 7 [12000/60000 ( 20%)]\t1.511618\n",
      "Train Epoch: 7 [14000/60000 ( 23%)]\t1.529236\n",
      "Train Epoch: 7 [16000/60000 ( 27%)]\t1.535189\n",
      "Train Epoch: 7 [18000/60000 ( 30%)]\t1.538499\n",
      "Train Epoch: 7 [20000/60000 ( 33%)]\t1.552281\n",
      "Train Epoch: 7 [22000/60000 ( 37%)]\t1.509854\n",
      "Train Epoch: 7 [24000/60000 ( 40%)]\t1.551357\n",
      "Train Epoch: 7 [26000/60000 ( 43%)]\t1.527097\n",
      "Train Epoch: 7 [28000/60000 ( 47%)]\t1.550143\n",
      "Train Epoch: 7 [30000/60000 ( 50%)]\t1.527915\n",
      "Train Epoch: 7 [32000/60000 ( 53%)]\t1.510528\n",
      "Train Epoch: 7 [34000/60000 ( 57%)]\t1.524262\n",
      "Train Epoch: 7 [36000/60000 ( 60%)]\t1.592590\n",
      "Train Epoch: 7 [38000/60000 ( 63%)]\t1.494926\n",
      "Train Epoch: 7 [40000/60000 ( 67%)]\t1.509921\n",
      "Train Epoch: 7 [42000/60000 ( 70%)]\t1.501594\n",
      "Train Epoch: 7 [44000/60000 ( 73%)]\t1.543248\n",
      "Train Epoch: 7 [46000/60000 ( 77%)]\t1.524795\n",
      "Train Epoch: 7 [48000/60000 ( 80%)]\t1.494759\n",
      "Train Epoch: 7 [50000/60000 ( 83%)]\t1.492441\n",
      "Train Epoch: 7 [52000/60000 ( 87%)]\t1.546877\n",
      "Train Epoch: 7 [54000/60000 ( 90%)]\t1.513703\n",
      "Train Epoch: 7 [56000/60000 ( 93%)]\t1.518762\n",
      "Train Epoch: 7 [58000/60000 ( 97%)]\t1.534015\n",
      "\n",
      " Test set: Average loss: 0.0149, Accuracy9741/10000 (97%\n",
      ")\n",
      "Train Epoch: 8 [0/60000 ( 0%)]\t1.508927\n",
      "Train Epoch: 8 [2000/60000 ( 3%)]\t1.533648\n",
      "Train Epoch: 8 [4000/60000 ( 7%)]\t1.517110\n",
      "Train Epoch: 8 [6000/60000 ( 10%)]\t1.486063\n",
      "Train Epoch: 8 [8000/60000 ( 13%)]\t1.505229\n",
      "Train Epoch: 8 [10000/60000 ( 17%)]\t1.564269\n",
      "Train Epoch: 8 [12000/60000 ( 20%)]\t1.552591\n",
      "Train Epoch: 8 [14000/60000 ( 23%)]\t1.579862\n",
      "Train Epoch: 8 [16000/60000 ( 27%)]\t1.597362\n",
      "Train Epoch: 8 [18000/60000 ( 30%)]\t1.528481\n",
      "Train Epoch: 8 [20000/60000 ( 33%)]\t1.557218\n",
      "Train Epoch: 8 [22000/60000 ( 37%)]\t1.535593\n",
      "Train Epoch: 8 [24000/60000 ( 40%)]\t1.507193\n",
      "Train Epoch: 8 [26000/60000 ( 43%)]\t1.550739\n",
      "Train Epoch: 8 [28000/60000 ( 47%)]\t1.552756\n",
      "Train Epoch: 8 [30000/60000 ( 50%)]\t1.570809\n",
      "Train Epoch: 8 [32000/60000 ( 53%)]\t1.504913\n",
      "Train Epoch: 8 [34000/60000 ( 57%)]\t1.524285\n",
      "Train Epoch: 8 [36000/60000 ( 60%)]\t1.547387\n",
      "Train Epoch: 8 [38000/60000 ( 63%)]\t1.512533\n",
      "Train Epoch: 8 [40000/60000 ( 67%)]\t1.523299\n",
      "Train Epoch: 8 [42000/60000 ( 70%)]\t1.523692\n",
      "Train Epoch: 8 [44000/60000 ( 73%)]\t1.518999\n",
      "Train Epoch: 8 [46000/60000 ( 77%)]\t1.531299\n",
      "Train Epoch: 8 [48000/60000 ( 80%)]\t1.497106\n",
      "Train Epoch: 8 [50000/60000 ( 83%)]\t1.524717\n",
      "Train Epoch: 8 [52000/60000 ( 87%)]\t1.530670\n",
      "Train Epoch: 8 [54000/60000 ( 90%)]\t1.495866\n",
      "Train Epoch: 8 [56000/60000 ( 93%)]\t1.573678\n",
      "Train Epoch: 8 [58000/60000 ( 97%)]\t1.527415\n",
      "\n",
      " Test set: Average loss: 0.0149, Accuracy9730/10000 (97%\n",
      ")\n",
      "Train Epoch: 9 [0/60000 ( 0%)]\t1.529002\n",
      "Train Epoch: 9 [2000/60000 ( 3%)]\t1.521729\n",
      "Train Epoch: 9 [4000/60000 ( 7%)]\t1.488505\n",
      "Train Epoch: 9 [6000/60000 ( 10%)]\t1.549434\n",
      "Train Epoch: 9 [8000/60000 ( 13%)]\t1.509409\n",
      "Train Epoch: 9 [10000/60000 ( 17%)]\t1.542758\n",
      "Train Epoch: 9 [12000/60000 ( 20%)]\t1.485820\n",
      "Train Epoch: 9 [14000/60000 ( 23%)]\t1.537244\n",
      "Train Epoch: 9 [16000/60000 ( 27%)]\t1.511198\n",
      "Train Epoch: 9 [18000/60000 ( 30%)]\t1.531889\n",
      "Train Epoch: 9 [20000/60000 ( 33%)]\t1.521513\n",
      "Train Epoch: 9 [22000/60000 ( 37%)]\t1.506730\n",
      "Train Epoch: 9 [24000/60000 ( 40%)]\t1.525692\n",
      "Train Epoch: 9 [26000/60000 ( 43%)]\t1.528546\n",
      "Train Epoch: 9 [28000/60000 ( 47%)]\t1.537448\n",
      "Train Epoch: 9 [30000/60000 ( 50%)]\t1.532008\n",
      "Train Epoch: 9 [32000/60000 ( 53%)]\t1.514297\n",
      "Train Epoch: 9 [34000/60000 ( 57%)]\t1.513616\n",
      "Train Epoch: 9 [36000/60000 ( 60%)]\t1.506508\n",
      "Train Epoch: 9 [38000/60000 ( 63%)]\t1.547789\n",
      "Train Epoch: 9 [40000/60000 ( 67%)]\t1.487744\n",
      "Train Epoch: 9 [42000/60000 ( 70%)]\t1.548692\n",
      "Train Epoch: 9 [44000/60000 ( 73%)]\t1.516900\n",
      "Train Epoch: 9 [46000/60000 ( 77%)]\t1.525671\n",
      "Train Epoch: 9 [48000/60000 ( 80%)]\t1.512325\n",
      "Train Epoch: 9 [50000/60000 ( 83%)]\t1.549033\n",
      "Train Epoch: 9 [52000/60000 ( 87%)]\t1.488376\n",
      "Train Epoch: 9 [54000/60000 ( 90%)]\t1.503958\n",
      "Train Epoch: 9 [56000/60000 ( 93%)]\t1.524774\n",
      "Train Epoch: 9 [58000/60000 ( 97%)]\t1.537283\n",
      "\n",
      " Test set: Average loss: 0.0149, Accuracy9758/10000 (98%\n",
      ")\n",
      "Train Epoch: 10 [0/60000 ( 0%)]\t1.510489\n",
      "Train Epoch: 10 [2000/60000 ( 3%)]\t1.532052\n",
      "Train Epoch: 10 [4000/60000 ( 7%)]\t1.543411\n",
      "Train Epoch: 10 [6000/60000 ( 10%)]\t1.515535\n",
      "Train Epoch: 10 [8000/60000 ( 13%)]\t1.533295\n",
      "Train Epoch: 10 [10000/60000 ( 17%)]\t1.507821\n",
      "Train Epoch: 10 [12000/60000 ( 20%)]\t1.533607\n",
      "Train Epoch: 10 [14000/60000 ( 23%)]\t1.505708\n",
      "Train Epoch: 10 [16000/60000 ( 27%)]\t1.542243\n",
      "Train Epoch: 10 [18000/60000 ( 30%)]\t1.522749\n",
      "Train Epoch: 10 [20000/60000 ( 33%)]\t1.511838\n",
      "Train Epoch: 10 [22000/60000 ( 37%)]\t1.532402\n",
      "Train Epoch: 10 [24000/60000 ( 40%)]\t1.524723\n",
      "Train Epoch: 10 [26000/60000 ( 43%)]\t1.554183\n",
      "Train Epoch: 10 [28000/60000 ( 47%)]\t1.557240\n",
      "Train Epoch: 10 [30000/60000 ( 50%)]\t1.533378\n",
      "Train Epoch: 10 [32000/60000 ( 53%)]\t1.492866\n",
      "Train Epoch: 10 [34000/60000 ( 57%)]\t1.534571\n",
      "Train Epoch: 10 [36000/60000 ( 60%)]\t1.512333\n",
      "Train Epoch: 10 [38000/60000 ( 63%)]\t1.503458\n",
      "Train Epoch: 10 [40000/60000 ( 67%)]\t1.548813\n",
      "Train Epoch: 10 [42000/60000 ( 70%)]\t1.525789\n",
      "Train Epoch: 10 [44000/60000 ( 73%)]\t1.545934\n",
      "Train Epoch: 10 [46000/60000 ( 77%)]\t1.533131\n",
      "Train Epoch: 10 [48000/60000 ( 80%)]\t1.545223\n",
      "Train Epoch: 10 [50000/60000 ( 83%)]\t1.519398\n",
      "Train Epoch: 10 [52000/60000 ( 87%)]\t1.541252\n",
      "Train Epoch: 10 [54000/60000 ( 90%)]\t1.529619\n",
      "Train Epoch: 10 [56000/60000 ( 93%)]\t1.512022\n",
      "Train Epoch: 10 [58000/60000 ( 97%)]\t1.491990\n",
      "\n",
      " Test set: Average loss: 0.0148, Accuracy9764/10000 (98%\n",
      ")\n"
     ]
    }
   ],
   "source": [
    "for epoch in range(1, 11):\n",
    "    train(epoch)\n",
    "    test()"
   ]
  },
  {
   "cell_type": "code",
   "execution_count": 35,
   "id": "f08acf55-3561-4cd6-94f1-dbc5ce4057e8",
   "metadata": {},
   "outputs": [
    {
     "name": "stdout",
     "output_type": "stream",
     "text": [
      "prediction: 9\n"
     ]
    },
    {
     "name": "stderr",
     "output_type": "stream",
     "text": [
      "C:\\Users\\kalya\\AppData\\Local\\Temp\\ipykernel_10420\\698095921.py:25: UserWarning: Implicit dimension choice for softmax has been deprecated. Change the call to include dim=X as an argument.\n",
      "  return F.softmax(x)\n"
     ]
    },
    {
     "data": {
      "image/png": "[encoded data removed]",
      "text/plain": [
       "<Figure size 640x480 with 1 Axes>"
      ]
     },
     "metadata": {},
     "output_type": "display_data"
    }
   ],
   "source": [
    "import matplotlib.pyplot as plt\n",
    "\n",
    "model.eval()\n",
    "\n",
    "data, target = test_data[9]\n",
    "\n",
    "data = data.unsqueeze(0).to(device)\n",
    "output = model(data)\n",
    "\n",
    "prediction = output.argmax(dim=1, keepdim = True).item()\n",
    "\n",
    "print(f'prediction: {prediction}')\n",
    "\n",
    "image = data.squeeze(0).squeeze(0).cpu().numpy()\n",
    "\n",
    "plt.imshow(image, cmap='gray')\n",
    "plt.show()"
   ]
  },
  {
   "cell_type": "code",
   "execution_count": 36,
   "id": "51c786c8-69e3-4ffa-addb-eda070199178",
   "metadata": {},
   "outputs": [
    {
     "name": "stdout",
     "output_type": "stream",
     "text": [
      "prediction: 2\n"
     ]
    },
    {
     "name": "stderr",
     "output_type": "stream",
     "text": [
      "C:\\Users\\kalya\\AppData\\Local\\Temp\\ipykernel_10420\\698095921.py:25: UserWarning: Implicit dimension choice for softmax has been deprecated. Change the call to include dim=X as an argument.\n",
      "  return F.softmax(x)\n"
     ]
    },
    {
     "data": {
      "image/png": "[encoded data removed]",
      "text/plain": [
       "<Figure size 640x480 with 1 Axes>"
      ]
     },
     "metadata": {},
     "output_type": "display_data"
    }
   ],
   "source": [
    "import matplotlib.pyplot as plt\n",
    "\n",
    "model.eval()\n",
    "\n",
    "data, target = test_data[456]\n",
    "\n",
    "data = data.unsqueeze(0).to(device)\n",
    "output = model(data)\n",
    "\n",
    "prediction = output.argmax(dim=1, keepdim = True).item()\n",
    "\n",
    "print(f'prediction: {prediction}')\n",
    "\n",
    "image = data.squeeze(0).squeeze(0).cpu().numpy()\n",
    "\n",
    "plt.imshow(image, cmap='gray')\n",
    "plt.show()"
   ]
  },
  {
   "cell_type": "code",
   "execution_count": 37,
   "id": "c28cdb48-0d21-4da0-acf9-3a7a7ce6a35a",
   "metadata": {},
   "outputs": [
    {
     "name": "stdout",
     "output_type": "stream",
     "text": [
      "prediction: 7\n"
     ]
    },
    {
     "name": "stderr",
     "output_type": "stream",
     "text": [
      "C:\\Users\\kalya\\AppData\\Local\\Temp\\ipykernel_10420\\698095921.py:25: UserWarning: Implicit dimension choice for softmax has been deprecated. Change the call to include dim=X as an argument.\n",
      "  return F.softmax(x)\n"
     ]
    },
    {
     "data": {
      "image/png": "[encoded data removed]",
      "text/plain": [
       "<Figure size 640x480 with 1 Axes>"
      ]
     },
     "metadata": {},
     "output_type": "display_data"
    }
   ],
   "source": [
    "import matplotlib.pyplot as plt\n",
    "\n",
    "model.eval()\n",
    "\n",
    "data, target = test_data[987]\n",
    "\n",
    "data = data.unsqueeze(0).to(device)\n",
    "output = model(data)\n",
    "\n",
    "prediction = output.argmax(dim=1, keepdim = True).item()\n",
    "\n",
    "print(f'prediction: {prediction}')\n",
    "\n",
    "image = data.squeeze(0).squeeze(0).cpu().numpy()\n",
    "\n",
    "plt.imshow(image, cmap='gray')\n",
    "plt.show()"
   ]
  },
  {
   "cell_type": "code",
   "execution_count": 38,
   "id": "33284edc-de0d-4906-8ca5-046edd43e1fd",
   "metadata": {},
   "outputs": [
    {
     "name": "stdout",
     "output_type": "stream",
     "text": [
      "prediction: 3\n"
     ]
    },
    {
     "name": "stderr",
     "output_type": "stream",
     "text": [
      "C:\\Users\\kalya\\AppData\\Local\\Temp\\ipykernel_10420\\698095921.py:25: UserWarning: Implicit dimension choice for softmax has been deprecated. Change the call to include dim=X as an argument.\n",
      "  return F.softmax(x)\n"
     ]
    },
    {
     "data": {
      "image/png": "[encoded data removed]",
      "text/plain": [
       "<Figure size 640x480 with 1 Axes>"
      ]
     },
     "metadata": {},
     "output_type": "display_data"
    }
   ],
   "source": [
    "import matplotlib.pyplot as plt\n",
    "\n",
    "model.eval()\n",
    "\n",
    "data, target = test_data[369]\n",
    "\n",
    "data = data.unsqueeze(0).to(device)\n",
    "output = model(data)\n",
    "\n",
    "prediction = output.argmax(dim=1, keepdim = True).item()\n",
    "\n",
    "print(f'prediction: {prediction}')\n",
    "\n",
    "image = data.squeeze(0).squeeze(0).cpu().numpy()\n",
    "\n",
    "plt.imshow(image, cmap='gray')\n",
    "plt.show()"
   ]
  },
  {
   "cell_type": "code",
   "execution_count": 39,
   "id": "6bdd765d-6ff5-4756-9327-5ce7f60b7593",
   "metadata": {},
   "outputs": [
    {
     "name": "stdout",
     "output_type": "stream",
     "text": [
      "prediction: 0\n"
     ]
    },
    {
     "name": "stderr",
     "output_type": "stream",
     "text": [
      "C:\\Users\\kalya\\AppData\\Local\\Temp\\ipykernel_10420\\698095921.py:25: UserWarning: Implicit dimension choice for softmax has been deprecated. Change the call to include dim=X as an argument.\n",
      "  return F.softmax(x)\n"
     ]
    },
    {
     "data": {
      "image/png": "[encoded data removed]",
      "text/plain": [
       "<Figure size 640x480 with 1 Axes>"
      ]
     },
     "metadata": {},
     "output_type": "display_data"
    }
   ],
   "source": [
    "import matplotlib.pyplot as plt\n",
    "\n",
    "model.eval()\n",
    "\n",
    "data, target = test_data[259]\n",
    "\n",
    "data = data.unsqueeze(0).to(device)\n",
    "output = model(data)\n",
    "\n",
    "prediction = output.argmax(dim=1, keepdim = True).item()\n",
    "\n",
    "print(f'prediction: {prediction}')\n",
    "\n",
    "image = data.squeeze(0).squeeze(0).cpu().numpy()\n",
    "\n",
    "plt.imshow(image, cmap='gray')\n",
    "plt.show()"
   ]
  },
  {
   "cell_type": "code",
   "execution_count": 40,
   "id": "c9a6dcc7-720a-49d3-8059-adde17fda1c3",
   "metadata": {},
   "outputs": [
    {
     "name": "stdout",
     "output_type": "stream",
     "text": [
      "prediction: 7\n"
     ]
    },
    {
     "name": "stderr",
     "output_type": "stream",
     "text": [
      "C:\\Users\\kalya\\AppData\\Local\\Temp\\ipykernel_10420\\698095921.py:25: UserWarning: Implicit dimension choice for softmax has been deprecated. Change the call to include dim=X as an argument.\n",
      "  return F.softmax(x)\n"
     ]
    },
    {
     "data": {
      "image/png": "[encoded data removed]",
      "text/plain": [
       "<Figure size 640x480 with 1 Axes>"
      ]
     },
     "metadata": {},
     "output_type": "display_data"
    }
   ],
   "source": [
    "import matplotlib.pyplot as plt\n",
    "\n",
    "model.eval()\n",
    "\n",
    "data, target = test_data[853]\n",
    "\n",
    "data = data.unsqueeze(0).to(device)\n",
    "output = model(data)\n",
    "\n",
    "prediction = output.argmax(dim=1, keepdim = True).item()\n",
    "\n",
    "print(f'prediction: {prediction}')\n",
    "\n",
    "image = data.squeeze(0).squeeze(0).cpu().numpy()\n",
    "\n",
    "plt.imshow(image, cmap='gray')\n",
    "plt.show()"
   ]
  },
  {
   "cell_type": "code",
   "execution_count": null,
   "id": "de85ffc5-18cd-4207-80cf-1878e1572d20",
   "metadata": {},
   "outputs": [],
   "source": []
  }
 ],
 "metadata": {
  "kernelspec": {
   "display_name": "Python 3 (ipykernel)",
   "language": "python",
   "name": "python3"
  },
  "language_info": {
   "codemirror_mode": {
    "name": "ipython",
    "version": 3
   },
   "file_extension": ".py",
   "mimetype": "text/x-python",
   "name": "python",
   "nbconvert_exporter": "python",
   "pygments_lexer": "ipython3",
   "version": "3.12.3"
  }
 },
 "nbformat": 4,
 "nbformat_minor": 5
}
